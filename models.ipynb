{
 "cells": [
  {
   "cell_type": "code",
   "execution_count": 1,
   "metadata": {},
   "outputs": [],
   "source": [
    "import numpy as np\n",
    "import pandas as pd\n",
    "import matplotlib.pyplot as plt"
   ]
  },
  {
   "cell_type": "code",
   "execution_count": 4,
   "metadata": {},
   "outputs": [],
   "source": [
    "# Loading the data\n",
    "train = pd.read_csv(\"data/train.csv\", index_col=\"id\")\n",
    "test = pd.read_csv(\"data/test.csv\", index_col=\"id\")\n",
    "tt = pd.concat([train, test]).reset_index(drop=True).copy()\n",
    "tt_iterative = pd.read_csv(\"data/data_to_models/tt_ite.csv\").rename(columns={\"Unnamed: 0\": \"id\"}).set_index(\"id\")\n",
    "tt_knn = pd.read_csv(\"data/data_to_models/tt_knn.csv\").rename(columns={\"Unnamed: 0\": \"id\"}).set_index(\"id\")\n",
    "tt_mean= pd.read_csv(\"data/data_to_models/tt_mean.csv\").rename(columns={\"Unnamed: 0\": \"id\"}).set_index(\"id\")"
   ]
  },
  {
   "cell_type": "code",
   "execution_count": null,
   "metadata": {},
   "outputs": [],
   "source": [
    "y_train = tt[\"song_popularity\"].iloc[:35000]\n",
    "y_val = tt[\"song_popularity\"].iloc[35000:40000]\n",
    "y_test = tt[\"song_popularity\"].iloc[40000:]"
   ]
  },
  {
   "cell_type": "code",
   "execution_count": 26,
   "metadata": {},
   "outputs": [],
   "source": [
    "train_ite = tt_iterative.iloc[:35000]\n",
    "val_ite = tt_iterative.iloc[35000:40000]\n",
    "test_ite = tt_iterative.iloc[40000:]"
   ]
  },
  {
   "cell_type": "code",
   "execution_count": null,
   "metadata": {},
   "outputs": [],
   "source": [
    "train_ite = tt_iterative.iloc[:35000]\n",
    "val_ite = tt_iterative.iloc[35000:40000]\n",
    "test_ite = tt_iterative.iloc[40000:]"
   ]
  },
  {
   "cell_type": "code",
   "execution_count": null,
   "metadata": {},
   "outputs": [],
   "source": [
    "train_ite = tt_iterative.iloc[:35000]\n",
    "val_ite = tt_iterative.iloc[35000:40000]\n",
    "test_ite = tt_iterative.iloc[40000:]"
   ]
  },
  {
   "cell_type": "code",
   "execution_count": null,
   "metadata": {},
   "outputs": [],
   "source": []
  }
 ],
 "metadata": {
  "interpreter": {
   "hash": "0610c96838c27606f8e9342eb4dfc747be1d21b511b2549b36ec7fc5fba5dd05"
  },
  "kernelspec": {
   "display_name": "Python 3.8.12 64-bit ('global': conda)",
   "language": "python",
   "name": "python3"
  },
  "language_info": {
   "codemirror_mode": {
    "name": "ipython",
    "version": 3
   },
   "file_extension": ".py",
   "mimetype": "text/x-python",
   "name": "python",
   "nbconvert_exporter": "python",
   "pygments_lexer": "ipython3",
   "version": "3.8.12"
  },
  "orig_nbformat": 4
 },
 "nbformat": 4,
 "nbformat_minor": 2
}
